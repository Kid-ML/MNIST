{
  "nbformat": 4,
  "nbformat_minor": 0,
  "metadata": {
    "colab": {
      "name": "MNIST CNN",
      "provenance": [],
      "collapsed_sections": [],
      "authorship_tag": "ABX9TyM/8F57yy4zw2sHr8AgDLAc",
      "include_colab_link": true
    },
    "kernelspec": {
      "name": "python3",
      "display_name": "Python 3"
    }
  },
  "cells": [
    {
      "cell_type": "markdown",
      "metadata": {
        "id": "view-in-github",
        "colab_type": "text"
      },
      "source": [
        "<a href=\"https://colab.research.google.com/github/Kid-ML/MNIST/blob/master/MNIST_CNN.ipynb\" target=\"_parent\"><img src=\"https://colab.research.google.com/assets/colab-badge.svg\" alt=\"Open In Colab\"/></a>"
      ]
    },
    {
      "cell_type": "code",
      "metadata": {
        "id": "6Z9RN1TNSMOk",
        "colab_type": "code",
        "outputId": "b81dfecc-22e7-4e33-bdf6-d774c12ee41d",
        "colab": {
          "base_uri": "https://localhost:8080/",
          "height": 63
        }
      },
      "source": [
        "import tensorflow as tf\n",
        "from tensorflow.keras import layers\n",
        "import numpy as np\n",
        "import matplotlib.pyplot as plt"
      ],
      "execution_count": 0,
      "outputs": [
        {
          "output_type": "display_data",
          "data": {
            "text/html": [
              "<p style=\"color: red;\">\n",
              "The default version of TensorFlow in Colab will soon switch to TensorFlow 2.x.<br>\n",
              "We recommend you <a href=\"https://www.tensorflow.org/guide/migrate\" target=\"_blank\">upgrade</a> now \n",
              "or ensure your notebook will continue to use TensorFlow 1.x via the <code>%tensorflow_version 1.x</code> magic:\n",
              "<a href=\"https://colab.research.google.com/notebooks/tensorflow_version.ipynb\" target=\"_blank\">more info</a>.</p>\n"
            ],
            "text/plain": [
              "<IPython.core.display.HTML object>"
            ]
          },
          "metadata": {
            "tags": []
          }
        }
      ]
    },
    {
      "cell_type": "code",
      "metadata": {
        "id": "eAotWIf7SPnf",
        "colab_type": "code",
        "outputId": "e15878b6-ef63-4843-de21-1960bdedf7b5",
        "colab": {
          "base_uri": "https://localhost:8080/",
          "height": 34
        }
      },
      "source": [
        "from tensorflow import keras\n",
        "(x_train, y_train), (x_test, y_test) = keras.datasets.mnist.load_data()\n",
        "print(x_train.shape)"
      ],
      "execution_count": 0,
      "outputs": [
        {
          "output_type": "stream",
          "text": [
            "(60000, 28, 28)\n"
          ],
          "name": "stdout"
        }
      ]
    },
    {
      "cell_type": "code",
      "metadata": {
        "id": "mxBB6j_DSY-l",
        "colab_type": "code",
        "outputId": "ce2e6ebe-894d-43dd-b726-7483de235450",
        "colab": {
          "base_uri": "https://localhost:8080/",
          "height": 34
        }
      },
      "source": [
        "x_train = x_train.reshape(x_train.shape[0], 28, 28, 1)\n",
        "x_train = x_train.astype('float32')\n",
        "x_train /= 255\n",
        "print(x_train.shape)"
      ],
      "execution_count": 0,
      "outputs": [
        {
          "output_type": "stream",
          "text": [
            "(60000, 28, 28, 1)\n"
          ],
          "name": "stdout"
        }
      ]
    },
    {
      "cell_type": "code",
      "metadata": {
        "id": "iQNFT2lkQoGC",
        "colab_type": "code",
        "outputId": "11c48ebf-4a20-4f0e-911e-288946cefbb3",
        "colab": {
          "base_uri": "https://localhost:8080/",
          "height": 496
        }
      },
      "source": [
        "model = tf.keras.Sequential()\n",
        "model.add(layers.Conv2D(32, (3,3), activation='relu', input_shape=((28, 28, 1)))) \n",
        "model.add(layers.MaxPooling2D(pool_size=(2,2)))\n",
        "model.add(layers.Conv2D(32, (3,3), activation='relu')) \n",
        "model.add(layers.MaxPooling2D(pool_size=(2,2)))\n",
        "model.add(layers.Conv2D(32, (3,3), activation='relu'))\n",
        "model.add(layers.Flatten())\n",
        "model.add(layers.Dense(128, activation='relu'))\n",
        "model.add(layers.Dense(10))\n",
        "model.summary()"
      ],
      "execution_count": 0,
      "outputs": [
        {
          "output_type": "stream",
          "text": [
            "WARNING:tensorflow:From /tensorflow-1.15.0/python3.6/tensorflow_core/python/ops/resource_variable_ops.py:1630: calling BaseResourceVariable.__init__ (from tensorflow.python.ops.resource_variable_ops) with constraint is deprecated and will be removed in a future version.\n",
            "Instructions for updating:\n",
            "If using Keras pass *_constraint arguments to layers.\n",
            "Model: \"sequential\"\n",
            "_________________________________________________________________\n",
            "Layer (type)                 Output Shape              Param #   \n",
            "=================================================================\n",
            "conv2d (Conv2D)              (None, 26, 26, 32)        320       \n",
            "_________________________________________________________________\n",
            "max_pooling2d (MaxPooling2D) (None, 13, 13, 32)        0         \n",
            "_________________________________________________________________\n",
            "conv2d_1 (Conv2D)            (None, 11, 11, 32)        9248      \n",
            "_________________________________________________________________\n",
            "max_pooling2d_1 (MaxPooling2 (None, 5, 5, 32)          0         \n",
            "_________________________________________________________________\n",
            "conv2d_2 (Conv2D)            (None, 3, 3, 32)          9248      \n",
            "_________________________________________________________________\n",
            "flatten (Flatten)            (None, 288)               0         \n",
            "_________________________________________________________________\n",
            "dense (Dense)                (None, 128)               36992     \n",
            "_________________________________________________________________\n",
            "dense_1 (Dense)              (None, 10)                1290      \n",
            "=================================================================\n",
            "Total params: 57,098\n",
            "Trainable params: 57,098\n",
            "Non-trainable params: 0\n",
            "_________________________________________________________________\n"
          ],
          "name": "stdout"
        }
      ]
    },
    {
      "cell_type": "code",
      "metadata": {
        "id": "qnuDrQkLSnlY",
        "colab_type": "code",
        "outputId": "b1cc61d6-3613-4486-81c8-d0c8ab0267b5",
        "colab": {
          "base_uri": "https://localhost:8080/",
          "height": 442
        }
      },
      "source": [
        "model.compile(optimizer='adam',\n",
        "              loss=tf.keras.losses.SparseCategoricalCrossentropy(from_logits=True),\n",
        "              metrics=['accuracy'])\n",
        "\n",
        "\n",
        "history = model.fit(x_train, y_train, batch_size=38, epochs=12, validation_split=0.2)"
      ],
      "execution_count": 0,
      "outputs": [
        {
          "output_type": "stream",
          "text": [
            "Train on 48000 samples, validate on 12000 samples\n",
            "Epoch 1/12\n",
            "48000/48000 [==============================] - 37s 761us/sample - loss: 0.1967 - acc: 0.9410 - val_loss: 0.0592 - val_acc: 0.9831\n",
            "Epoch 2/12\n",
            "48000/48000 [==============================] - 37s 761us/sample - loss: 0.0560 - acc: 0.9821 - val_loss: 0.0475 - val_acc: 0.9851\n",
            "Epoch 3/12\n",
            "48000/48000 [==============================] - 36s 759us/sample - loss: 0.0399 - acc: 0.9872 - val_loss: 0.0420 - val_acc: 0.9887\n",
            "Epoch 4/12\n",
            "48000/48000 [==============================] - 36s 756us/sample - loss: 0.0318 - acc: 0.9900 - val_loss: 0.0443 - val_acc: 0.9872\n",
            "Epoch 5/12\n",
            "48000/48000 [==============================] - 36s 757us/sample - loss: 0.0247 - acc: 0.9919 - val_loss: 0.0551 - val_acc: 0.9854\n",
            "Epoch 6/12\n",
            "48000/48000 [==============================] - 37s 765us/sample - loss: 0.0214 - acc: 0.9929 - val_loss: 0.0404 - val_acc: 0.9893\n",
            "Epoch 7/12\n",
            "48000/48000 [==============================] - 36s 752us/sample - loss: 0.0164 - acc: 0.9947 - val_loss: 0.0540 - val_acc: 0.9883\n",
            "Epoch 8/12\n",
            "48000/48000 [==============================] - 36s 752us/sample - loss: 0.0152 - acc: 0.9950 - val_loss: 0.0504 - val_acc: 0.9880\n",
            "Epoch 9/12\n",
            "48000/48000 [==============================] - 36s 753us/sample - loss: 0.0143 - acc: 0.9949 - val_loss: 0.0489 - val_acc: 0.9882\n",
            "Epoch 10/12\n",
            "48000/48000 [==============================] - 36s 747us/sample - loss: 0.0105 - acc: 0.9964 - val_loss: 0.0503 - val_acc: 0.9884\n",
            "Epoch 11/12\n",
            "48000/48000 [==============================] - 36s 745us/sample - loss: 0.0110 - acc: 0.9964 - val_loss: 0.0490 - val_acc: 0.9900\n",
            "Epoch 12/12\n",
            "48000/48000 [==============================] - 36s 742us/sample - loss: 0.0093 - acc: 0.9967 - val_loss: 0.0499 - val_acc: 0.9890\n"
          ],
          "name": "stdout"
        }
      ]
    },
    {
      "cell_type": "code",
      "metadata": {
        "id": "eFzhpu1ySNNN",
        "colab_type": "code",
        "outputId": "b5854dfb-21e9-4507-beec-6223ad8ec17b",
        "colab": {
          "base_uri": "https://localhost:8080/",
          "height": 573
        }
      },
      "source": [
        "# Plot training & validation accuracy values\n",
        "plt.plot(history.history['acc'])\n",
        "plt.plot(history.history['val_acc'])\n",
        "plt.title('Model accuracy')\n",
        "plt.ylabel('Accuracy')\n",
        "plt.xlabel('Epoch')\n",
        "plt.legend(['Train', 'Test'], loc='upper left')\n",
        "plt.show()\n",
        "\n",
        "# Plot training & validation loss values\n",
        "plt.plot(history.history['loss'])\n",
        "plt.plot(history.history['val_loss'])\n",
        "plt.title('Model loss')\n",
        "plt.ylabel('Loss')\n",
        "plt.xlabel('Epoch')\n",
        "plt.legend(['Train', 'Test'], loc='upper left')\n",
        "plt.show()"
      ],
      "execution_count": 0,
      "outputs": [
        {
          "output_type": "display_data",
          "data": {
            "image/png": "[encoded data removed]",
            "text/plain": [
              "<Figure size 432x288 with 1 Axes>"
            ]
          },
          "metadata": {
            "tags": []
          }
        },
        {
          "output_type": "display_data",
          "data": {
            "image/png": "[encoded data removed]",
            "text/plain": [
              "<Figure size 432x288 with 1 Axes>"
            ]
          },
          "metadata": {
            "tags": []
          }
        }
      ]
    }
  ]
}