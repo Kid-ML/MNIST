{
  "nbformat": 4,
  "nbformat_minor": 0,
  "metadata": {
    "colab": {
      "name": "MNIST DNN",
      "provenance": [],
      "collapsed_sections": [],
      "authorship_tag": "ABX9TyNTKuUK/fRq1M7jABy1MTZb",
      "include_colab_link": true
    },
    "kernelspec": {
      "name": "python3",
      "display_name": "Python 3"
    }
  },
  "cells": [
    {
      "cell_type": "markdown",
      "metadata": {
        "id": "view-in-github",
        "colab_type": "text"
      },
      "source": [
        "<a href=\"https://colab.research.google.com/github/Kid-ML/MNIST/blob/master/MNIST_DNN.ipynb\" target=\"_parent\"><img src=\"https://colab.research.google.com/assets/colab-badge.svg\" alt=\"Open In Colab\"/></a>"
      ]
    },
    {
      "cell_type": "code",
      "metadata": {
        "id": "jpBarKNjM_rD",
        "colab_type": "code",
        "outputId": "2280cb72-1227-4a6d-b57e-480eb42d4901",
        "colab": {
          "base_uri": "https://localhost:8080/",
          "height": 63
        }
      },
      "source": [
        "import tensorflow as tf\n",
        "from tensorflow.keras import layers\n",
        "import numpy as np\n",
        "import matplotlib.pyplot as plt"
      ],
      "execution_count": 0,
      "outputs": [
        {
          "output_type": "display_data",
          "data": {
            "text/html": [
              "<p style=\"color: red;\">\n",
              "The default version of TensorFlow in Colab will soon switch to TensorFlow 2.x.<br>\n",
              "We recommend you <a href=\"https://www.tensorflow.org/guide/migrate\" target=\"_blank\">upgrade</a> now \n",
              "or ensure your notebook will continue to use TensorFlow 1.x via the <code>%tensorflow_version 1.x</code> magic:\n",
              "<a href=\"https://colab.research.google.com/notebooks/tensorflow_version.ipynb\" target=\"_blank\">more info</a>.</p>\n"
            ],
            "text/plain": [
              "<IPython.core.display.HTML object>"
            ]
          },
          "metadata": {
            "tags": []
          }
        }
      ]
    },
    {
      "cell_type": "code",
      "metadata": {
        "id": "6IimBFLlNFsw",
        "colab_type": "code",
        "outputId": "91407238-1d84-4b36-ae4b-f79d5dc6d0e4",
        "colab": {
          "base_uri": "https://localhost:8080/",
          "height": 34
        }
      },
      "source": [
        "from tensorflow import keras\n",
        "(x_train, y_train), (x_test, y_test) = keras.datasets.mnist.load_data()\n",
        "print(x_train.shape)"
      ],
      "execution_count": 0,
      "outputs": [
        {
          "output_type": "stream",
          "text": [
            "(60000, 28, 28)\n"
          ],
          "name": "stdout"
        }
      ]
    },
    {
      "cell_type": "code",
      "metadata": {
        "id": "HFeWPZY7PZ2q",
        "colab_type": "code",
        "colab": {}
      },
      "source": [
        "x_train = x_train.reshape(-1, 784)\n",
        "x_train = x_train.astype('float32')\n",
        "x_train /= 255.\n",
        "\n",
        "y_train = y_train.astype('float32')"
      ],
      "execution_count": 0,
      "outputs": []
    },
    {
      "cell_type": "code",
      "metadata": {
        "id": "AV4SVaOzPkno",
        "colab_type": "code",
        "outputId": "9658ff70-065e-4946-d7f3-fb6b4264ce41",
        "colab": {
          "base_uri": "https://localhost:8080/",
          "height": 326
        }
      },
      "source": [
        "model = tf.keras.Sequential()\n",
        "model.add(layers.Dense(64, activation='relu', input_shape=(784,))) \n",
        "model.add(layers.Dense(64, activation='relu')) \n",
        "model.add(layers.Dense(10)) \n",
        "model.summary()"
      ],
      "execution_count": 0,
      "outputs": [
        {
          "output_type": "stream",
          "text": [
            "WARNING:tensorflow:From /tensorflow-1.15.0/python3.6/tensorflow_core/python/ops/resource_variable_ops.py:1630: calling BaseResourceVariable.__init__ (from tensorflow.python.ops.resource_variable_ops) with constraint is deprecated and will be removed in a future version.\n",
            "Instructions for updating:\n",
            "If using Keras pass *_constraint arguments to layers.\n",
            "Model: \"sequential\"\n",
            "_________________________________________________________________\n",
            "Layer (type)                 Output Shape              Param #   \n",
            "=================================================================\n",
            "dense (Dense)                (None, 64)                50240     \n",
            "_________________________________________________________________\n",
            "dense_1 (Dense)              (None, 64)                4160      \n",
            "_________________________________________________________________\n",
            "dense_2 (Dense)              (None, 10)                650       \n",
            "=================================================================\n",
            "Total params: 55,050\n",
            "Trainable params: 55,050\n",
            "Non-trainable params: 0\n",
            "_________________________________________________________________\n"
          ],
          "name": "stdout"
        }
      ]
    },
    {
      "cell_type": "code",
      "metadata": {
        "id": "RYEVfhruRYav",
        "colab_type": "code",
        "outputId": "83d80253-813f-4f83-a882-6194754bda1c",
        "colab": {
          "base_uri": "https://localhost:8080/",
          "height": 442
        }
      },
      "source": [
        "model.compile(optimizer='adam',\n",
        "              loss=tf.keras.losses.SparseCategoricalCrossentropy(from_logits=True),\n",
        "              metrics=['accuracy'])\n",
        "\n",
        "\n",
        "history = model.fit(x_train, y_train, batch_size=38, epochs=12, validation_split=0.2)"
      ],
      "execution_count": 0,
      "outputs": [
        {
          "output_type": "stream",
          "text": [
            "Train on 48000 samples, validate on 12000 samples\n",
            "Epoch 1/12\n",
            "48000/48000 [==============================] - 3s 61us/sample - loss: 0.3192 - acc: 0.9074 - val_loss: 0.1681 - val_acc: 0.9511\n",
            "Epoch 2/12\n",
            "48000/48000 [==============================] - 3s 57us/sample - loss: 0.1422 - acc: 0.9572 - val_loss: 0.1283 - val_acc: 0.9618\n",
            "Epoch 3/12\n",
            "48000/48000 [==============================] - 3s 58us/sample - loss: 0.1006 - acc: 0.9696 - val_loss: 0.1102 - val_acc: 0.9655\n",
            "Epoch 4/12\n",
            "48000/48000 [==============================] - 3s 56us/sample - loss: 0.0780 - acc: 0.9771 - val_loss: 0.0957 - val_acc: 0.9724\n",
            "Epoch 5/12\n",
            "48000/48000 [==============================] - 3s 58us/sample - loss: 0.0621 - acc: 0.9805 - val_loss: 0.1058 - val_acc: 0.9686\n",
            "Epoch 6/12\n",
            "48000/48000 [==============================] - 3s 57us/sample - loss: 0.0522 - acc: 0.9833 - val_loss: 0.1053 - val_acc: 0.9694\n",
            "Epoch 7/12\n",
            "48000/48000 [==============================] - 3s 57us/sample - loss: 0.0429 - acc: 0.9860 - val_loss: 0.1023 - val_acc: 0.9726\n",
            "Epoch 8/12\n",
            "48000/48000 [==============================] - 3s 57us/sample - loss: 0.0387 - acc: 0.9872 - val_loss: 0.1029 - val_acc: 0.9707\n",
            "Epoch 9/12\n",
            "48000/48000 [==============================] - 3s 56us/sample - loss: 0.0308 - acc: 0.9905 - val_loss: 0.1061 - val_acc: 0.9727\n",
            "Epoch 10/12\n",
            "48000/48000 [==============================] - 3s 57us/sample - loss: 0.0276 - acc: 0.9912 - val_loss: 0.1060 - val_acc: 0.9729\n",
            "Epoch 11/12\n",
            "48000/48000 [==============================] - 3s 57us/sample - loss: 0.0228 - acc: 0.9924 - val_loss: 0.1137 - val_acc: 0.9703\n",
            "Epoch 12/12\n",
            "48000/48000 [==============================] - 3s 57us/sample - loss: 0.0203 - acc: 0.9929 - val_loss: 0.1098 - val_acc: 0.9728\n"
          ],
          "name": "stdout"
        }
      ]
    },
    {
      "cell_type": "code",
      "metadata": {
        "id": "jB4a4XA5Pemv",
        "colab_type": "code",
        "outputId": "7d57627c-74a5-4fc0-b1e8-9176bb1fdb8d",
        "colab": {
          "base_uri": "https://localhost:8080/",
          "height": 573
        }
      },
      "source": [
        "# Plot training & validation accuracy values\n",
        "plt.plot(history.history['acc'])\n",
        "plt.plot(history.history['val_acc'])\n",
        "plt.title('Model accuracy')\n",
        "plt.ylabel('Accuracy')\n",
        "plt.xlabel('Epoch')\n",
        "plt.legend(['Train', 'Test'], loc='upper left')\n",
        "plt.show()\n",
        "\n",
        "# Plot training & validation loss values\n",
        "plt.plot(history.history['loss'])\n",
        "plt.plot(history.history['val_loss'])\n",
        "plt.title('Model loss')\n",
        "plt.ylabel('Loss')\n",
        "plt.xlabel('Epoch')\n",
        "plt.legend(['Train', 'Test'], loc='upper left')\n",
        "plt.show()"
      ],
      "execution_count": 0,
      "outputs": [
        {
          "output_type": "display_data",
          "data": {
            "image/png": "[encoded data removed]",
            "text/plain": [
              "<Figure size 432x288 with 1 Axes>"
            ]
          },
          "metadata": {
            "tags": []
          }
        },
        {
          "output_type": "display_data",
          "data": {
            "image/png": "[encoded data removed]",
            "text/plain": [
              "<Figure size 432x288 with 1 Axes>"
            ]
          },
          "metadata": {
            "tags": []
          }
        }
      ]
    }
  ]
}